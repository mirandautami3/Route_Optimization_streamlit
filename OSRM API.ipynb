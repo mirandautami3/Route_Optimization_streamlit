{
 "cells": [
  {
   "cell_type": "code",
   "execution_count": 1,
   "metadata": {},
   "outputs": [],
   "source": [
    "import requests\n",
    "import pandas as pd\n",
    "\n",
    "# Fungsi untuk mendapatkan jarak dan waktu tempuh menggunakan OSRM API\n",
    "def get_route(start_lat, start_lon, end_lat, end_lon):\n",
    "    url = f\"https://router.project-osrm.org/route/v1/driving/{start_lon},{start_lat};{end_lon},{end_lat}?overview=false\"\n",
    "    try:\n",
    "        response = requests.get(url)\n",
    "        data = response.json()\n",
    "        if \"routes\" in data:\n",
    "            distance = data[\"routes\"][0][\"distance\"] / 1000  # Konversi ke km\n",
    "            duration = data[\"routes\"][0][\"duration\"] / 60  # Konversi ke menit\n",
    "            return distance, duration\n",
    "        else:\n",
    "            return None, None\n",
    "    except Exception as e:\n",
    "        print(f\"Error: {e}\")\n",
    "        return None, None\n"
   ]
  },
  {
   "cell_type": "code",
   "execution_count": 2,
   "metadata": {},
   "outputs": [],
   "source": [
    "# Daftar lokasi di Surabaya\n",
    "locations = [\n",
    "    {\"name\": \"Stasiun Gubeng\", \"lat\": -7.257472, \"lon\": 112.752088},\n",
    "    {\"name\": \"Tunjungan Plaza\", \"lat\": -7.266735, \"lon\": 112.736115},\n",
    "    {\"name\": \"Kebun Binatang Surabaya\", \"lat\": -7.290215, \"lon\": 112.735337},\n",
    "    {\"name\": \"Surabaya Town Square\", \"lat\": -7.290116, \"lon\": 112.734558},\n",
    "    {\"name\": \"Grand City Mall\", \"lat\": -7.261414, \"lon\": 112.751639},\n",
    "    {\"name\": \"Terminal Bungurasih\", \"lat\": -7.345473, \"lon\": 112.742177},\n",
    "    {\"name\": \"Pelabuhan Tanjung Perak\", \"lat\": -7.203854, \"lon\": 112.723741},\n",
    "    {\"name\": \"Galaxy Mall\", \"lat\": -7.273925, \"lon\": 112.779602},\n",
    "    {\"name\": \"Pakuwon Mall\", \"lat\": -7.291418, \"lon\": 112.677844},\n",
    "    {\"name\": \"Stadion Gelora Bung Tomo\", \"lat\": -7.268027, \"lon\": 112.630660},\n",
    "]\n",
    "\n",
    "# Generate data untuk setiap pasangan lokasi\n",
    "results = []\n",
    "for i, start in enumerate(locations):\n",
    "    for j, end in enumerate(locations):\n",
    "        if i != j:  # Hindari rute ke lokasi yang sama\n",
    "            distance, duration = get_route(start[\"lat\"], start[\"lon\"], end[\"lat\"], end[\"lon\"])\n",
    "            if distance and duration:\n",
    "                results.append([\n",
    "                    start[\"name\"], start[\"lat\"], start[\"lon\"],\n",
    "                    end[\"name\"], end[\"lat\"], end[\"lon\"],\n",
    "                    distance, duration\n",
    "                ])\n",
    "\n"
   ]
  },
  {
   "cell_type": "code",
   "execution_count": null,
   "metadata": {},
   "outputs": [],
   "source": [
    "# Simpan hasil ke file CSV\n",
    "df = pd.DataFrame(results, columns=[\n",
    "    \"Start_Name\", \"Start_Lat\", \"Start_Lon\",\n",
    "    \"End_Name\", \"End_Lat\", \"End_Lon\",\n",
    "    \"Distance_km\", \"Duration_min\"\n",
    "])\n",
    "df.to_csv(\"surabaya_routes.csv\", index=False)\n",
    "print(\"Data berhasil disimpan ke surabaya_routes.csv\")\n"
   ]
  }
 ],
 "metadata": {
  "kernelspec": {
   "display_name": "Python 3",
   "language": "python",
   "name": "python3"
  },
  "language_info": {
   "codemirror_mode": {
    "name": "ipython",
    "version": 3
   },
   "file_extension": ".py",
   "mimetype": "text/x-python",
   "name": "python",
   "nbconvert_exporter": "python",
   "pygments_lexer": "ipython3",
   "version": "3.11.2"
  }
 },
 "nbformat": 4,
 "nbformat_minor": 2
}
